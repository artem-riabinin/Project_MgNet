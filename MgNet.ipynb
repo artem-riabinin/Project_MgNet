{
 "cells": [
  {
   "cell_type": "markdown",
   "id": "6504d8fc",
   "metadata": {
    "id": "6504d8fc"
   },
   "source": [
    "### Task: Multigrid"
   ]
  },
  {
   "cell_type": "markdown",
   "id": "c91b8884",
   "metadata": {
    "id": "c91b8884"
   },
   "source": [
    "Consider the following linear system\n",
    "\\begin{equation}\n",
    "\\ A * u = f, (1)\n",
    "\\end{equation}\n",
    "or equivalently\n",
    "\\begin{equation}\n",
    "\\ u = \\underset{v \\in \\mathbb{R}^{n \\times n}}{\\mathrm{argmin}} \\, \\frac{1}{2} (A * v, v)_F - (f, v)_F, (2)\n",
    "\\end{equation}\n",
    "where $u, v, f \\in \\mathbb{R}^{n \\times n}$ and $(f, v)_F = \\sum_{i,j=1}^{n} f_{ij} v_{ij}$ is the Frobenius inner product."
   ]
  },
  {
   "cell_type": "markdown",
   "id": "8e4063cd",
   "metadata": {
    "id": "8e4063cd"
   },
   "source": [
    "For $J = 4$, $n = 2^J-1$ and the number of iterations $M=100$. We use the $\\textbf{gradient descent}$ method and the $\\textbf{multigrid method}$ to solve the above problem with a random initial guess $u_0$. Let $u_{GD}$ and $u_{MD}$ denote the solutions obtained by gradient descent for problem in (2) and multigrid for problem in (1)"
   ]
  },
  {
   "cell_type": "markdown",
   "id": "d1879831",
   "metadata": {
    "id": "d1879831"
   },
   "source": [
    "Firstly, let us implement $\\textbf{gradient descent}$."
   ]
  },
  {
   "cell_type": "code",
   "execution_count": 1,
   "id": "c80a474a",
   "metadata": {
    "execution": {
     "iopub.execute_input": "2024-12-01T00:32:27.978380Z",
     "iopub.status.busy": "2024-12-01T00:32:27.977956Z",
     "iopub.status.idle": "2024-12-01T00:32:31.386999Z",
     "shell.execute_reply": "2024-12-01T00:32:31.385874Z"
    },
    "id": "c80a474a"
   },
   "outputs": [],
   "source": [
    "import torch\n",
    "import torch.nn as nn\n",
    "import torch.nn.functional as F\n",
    "\n",
    "import matplotlib.pyplot as plt\n",
    "import numpy as np\n",
    "\n",
    "# Define the constant convolution kernel for the Laplace operator\n",
    "Laplace_kernel = torch.tensor([[[[0, -1, 0],\n",
    "                                 [-1, 4, -1],\n",
    "                                 [0, -1, 0]]]], dtype=torch.float32)\n",
    "\n",
    "# Define the convolution kernel for the smoother for Laplacian operator\n",
    "Smoother_kernel = torch.tensor([[[[0, 1/64, 0],\n",
    "                                   [1/64, 12/64, 1/64],\n",
    "                                   [0, 1/64, 0]]]], dtype=torch.float32)\n",
    "\n",
    "class GradientDescentIteration(nn.Module):\n",
    "    def __init__(self, channels=1, multigrid=False):\n",
    "        super().__init__()\n",
    "        self.lap = nn.Conv2d(channels, channels, kernel_size=3, padding=1, bias=False)\n",
    "        self.s = nn.Conv2d(channels, channels, kernel_size=3, padding=1, bias=False)\n",
    "        if multigrid:\n",
    "            self.lap.weight = nn.Parameter(Laplace_kernel.repeat(channels, 1, 1, 1))\n",
    "            self.s.weight = nn.Parameter(Smoother_kernel.repeat(channels, 1, 1, 1))\n",
    "\n",
    "    def forward(self, out):\n",
    "        u, b = out\n",
    "        u = u + self.s(b - self.lap(u))\n",
    "        return u, b"
   ]
  },
  {
   "cell_type": "markdown",
   "id": "49939ed5",
   "metadata": {
    "id": "49939ed5"
   },
   "source": [
    "Next, let us implement the $\\textbf{multigrid method}$."
   ]
  },
  {
   "cell_type": "code",
   "execution_count": 2,
   "id": "2dfcfbaf",
   "metadata": {
    "execution": {
     "iopub.execute_input": "2024-12-01T00:32:31.391588Z",
     "iopub.status.busy": "2024-12-01T00:32:31.390997Z",
     "iopub.status.idle": "2024-12-01T00:32:31.410930Z",
     "shell.execute_reply": "2024-12-01T00:32:31.409866Z"
    },
    "id": "2dfcfbaf"
   },
   "outputs": [],
   "source": [
    "# Define the constant convolution kernel for the Laplace operator\n",
    "Laplace_kernel = torch.tensor([[[[0, -1, 0],\n",
    "                                 [-1, 4, -1],\n",
    "                                 [0, -1, 0]]]], dtype=torch.float32)\n",
    "\n",
    "# Define the prolongation convolutional kernel for multigrid\n",
    "Prolongation_kernel = torch.tensor([[[[0, 0.5, 0.5],\n",
    "                                      [0.5, 1, 0.5],\n",
    "                                      [0.5, 0.5, 0]]]], dtype=torch.float32)\n",
    "\n",
    "# Define the restriction convolutional kernel with zeros\n",
    "Pi_kernel = torch.tensor([[[[0, 0, 0],\n",
    "                            [0, 0, 0],\n",
    "                            [0, 0, 0]]]], dtype=torch.float32)\n",
    "\n",
    "# Define the convolution kernel for the smoother for Laplacian operator\n",
    "Smoother_kernel = torch.tensor([[[[0, 1/64, 0],\n",
    "                                   [1/64, 12/64, 1/64],\n",
    "                                   [0, 1/64, 0]]]], dtype=torch.float32)\n",
    "\n",
    "class Restriction(nn.Module):\n",
    "    def __init__(self, channels=1, multigrid=False):\n",
    "        super().__init__()\n",
    "        self.restrict_b = nn.Conv2d(channels, channels, kernel_size=3, stride=2, padding=0, bias=False)\n",
    "        self.restrict_u = nn.Conv2d(channels, channels, kernel_size=3, stride=2, padding=0, bias=False)\n",
    "        self.lap = nn.Conv2d(channels, channels, kernel_size=3, padding=1, bias=False)\n",
    "        if multigrid:\n",
    "            self.restrict_b.weight = nn.Parameter(Prolongation_kernel.repeat(channels, 1, 1, 1))\n",
    "            self.restrict_u.weight = nn.Parameter(Pi_kernel.repeat(channels, 1, 1, 1))\n",
    "            self.lap.weight = nn.Parameter(Laplace_kernel.repeat(channels, 1, 1, 1))\n",
    "\n",
    "    def forward(self, out):\n",
    "        u_old, b_old = out\n",
    "        u = self.restrict_u(u_old)\n",
    "        b = self.restrict_b(b_old - self.lap(u_old)) + self.lap(u)\n",
    "        return u, b\n",
    "\n",
    "class Prolongation(nn.Module):\n",
    "    def __init__(self, channels=1, multigrid=False):\n",
    "        super().__init__()\n",
    "        self.prolong = nn.ConvTranspose2d(channels, channels, kernel_size=3, stride=2, padding=0, bias=False)\n",
    "        if multigrid:\n",
    "            self.prolong.weight = nn.Parameter(Prolongation_kernel)\n",
    "\n",
    "    def forward(self, u):\n",
    "        u_prolonged = self.prolong(u)\n",
    "        return u_prolonged\n",
    "\n",
    "class Multigrid(nn.Module):\n",
    "    def __init__(self, num_channels, num_classes, num_iterations=[2, 2, 2, 2], multigrid=False):\n",
    "        super().__init__()\n",
    "        self.num_channels = num_channels\n",
    "        self.num_classes = num_classes\n",
    "        self.num_iterations = num_iterations\n",
    "        self.multigrid = multigrid\n",
    "        self.down_layers = nn.ModuleList()\n",
    "        self.up_layers = nn.ModuleList()\n",
    "        downlayer, uplayer = [], []\n",
    "        for i in range(len(num_iterations)):\n",
    "            for _ in range(num_iterations[i]):\n",
    "                downlayer.append(GradientDescentIteration(num_channels, multigrid))\n",
    "                uplayer.append(GradientDescentIteration(num_channels, multigrid))\n",
    "            self.down_layers.append(nn.Sequential(*downlayer))\n",
    "            self.up_layers.append(nn.Sequential(*uplayer))\n",
    "            downlayer, uplayer = [], []\n",
    "            if i < len(num_iterations) - 1:\n",
    "                downlayer.append(Restriction(num_channels, multigrid))\n",
    "        self.upsamples_layers = nn.ModuleList()\n",
    "        for i in range(len(num_iterations) - 1):\n",
    "            self.upsamples_layers.append(Prolongation(num_channels, multigrid))\n",
    "\n",
    "    def forward(self, out):\n",
    "        out_list = []\n",
    "        for i in range(len(self.num_iterations)):\n",
    "            out = self.down_layers[i](out)\n",
    "            out_list.append(out)\n",
    "        for j in range(len(self.num_iterations) - 2, -1, -1):\n",
    "            u_up, f = out_list[j][0], out_list[j][1]\n",
    "            u_down, f_down = out_list[j + 1][0], out_list[j+1][1]\n",
    "            u_up = u_up + self.upsamples_layers[j](u_down)\n",
    "            out = (u_up, f)\n",
    "            out_list[j] = self.up_layers[j](out)\n",
    "        return out"
   ]
  },
  {
   "cell_type": "markdown",
   "id": "efa2cf85",
   "metadata": {
    "id": "efa2cf85"
   },
   "source": [
    "Now let us compare these two approaches."
   ]
  },
  {
   "cell_type": "markdown",
   "id": "41bd10ba",
   "metadata": {
    "id": "41bd10ba"
   },
   "source": [
    "1. Let us plot the surface of solution $u_{GD}$ and $u_{MG}$ for $M=100$ number of iterations."
   ]
  },
  {
   "cell_type": "code",
   "execution_count": 3,
   "id": "f5f81e56",
   "metadata": {
    "colab": {
     "base_uri": "https://localhost:8080/",
     "height": 843
    },
    "execution": {
     "iopub.execute_input": "2024-12-01T00:32:31.414655Z",
     "iopub.status.busy": "2024-12-01T00:32:31.414208Z",
     "iopub.status.idle": "2024-12-01T00:32:40.780908Z",
     "shell.execute_reply": "2024-12-01T00:32:40.779889Z"
    },
    "id": "f5f81e56",
    "outputId": "669091ea-fa05-4993-c7c5-8e5c9a60eb97"
   },
   "outputs": [
    {
     "data": {
      "image/png": "[encoded data removed]",
      "text/plain": [
       "<Figure size 640x480 with 1 Axes>"
      ]
     },
     "metadata": {},
     "output_type": "display_data"
    },
    {
     "data": {
      "image/png": "[encoded data removed]",
      "text/plain": [
       "<Figure size 640x480 with 1 Axes>"
      ]
     },
     "metadata": {},
     "output_type": "display_data"
    }
   ],
   "source": [
    "# Initialization\n",
    "u = torch.randn(1, 1, 15, 15)\n",
    "b = torch.ones(1, 1, 15, 15) / 16**2\n",
    "\n",
    "gd = GradientDescentIteration(multigrid=True)\n",
    "residuals_gd = []\n",
    "out = (u, b)\n",
    "for i in range(100):\n",
    "    out = gd(out)\n",
    "    error = torch.norm(F.conv2d(out[0], Laplace_kernel, padding=1) - out[1]).item()\n",
    "    residuals_gd.append(error)\n",
    "out_gd_final = out\n",
    "\n",
    "mg = Multigrid(num_channels=1, num_classes=1, num_iterations=[2, 2, 2, 2], multigrid=True)\n",
    "residuals_mg = []\n",
    "out = (u, b)\n",
    "for i in range(100):\n",
    "    out = mg(out)\n",
    "    error = torch.norm(F.conv2d(out[0], Laplace_kernel, padding=1) - out[1]).item()\n",
    "    residuals_mg.append(error)\n",
    "out_mg_final = out\n",
    "\n",
    "plt.imshow(out_gd_final[0].squeeze().detach().numpy())\n",
    "plt.show()\n",
    "plt.imshow(out_mg_final[0].squeeze().detach().numpy())\n",
    "plt.show()"
   ]
  },
  {
   "cell_type": "markdown",
   "id": "e2cc140c",
   "metadata": {
    "id": "e2cc140c"
   },
   "source": [
    "2. Let us plot the errors for these methods as a function of the number of iterations. We initially set $M=1000$, and then stop training when the error becomes less than $10^{-5}$, for gradient descent, we denote this step as $m_1$, and for multigrid, we denote it as $m_2$.\n",
    "\n",
    "   From the plot we can see that the multigrid method converges much faster than gradient descent."
   ]
  },
  {
   "cell_type": "code",
   "execution_count": 4,
   "id": "445012c9",
   "metadata": {
    "colab": {
     "base_uri": "https://localhost:8080/",
     "height": 564
    },
    "execution": {
     "iopub.execute_input": "2024-12-01T00:32:40.784250Z",
     "iopub.status.busy": "2024-12-01T00:32:40.783859Z",
     "iopub.status.idle": "2024-12-01T00:32:44.822233Z",
     "shell.execute_reply": "2024-12-01T00:32:44.821152Z"
    },
    "id": "445012c9",
    "outputId": "77a4989c-a066-437a-eaaf-c1defd622fa1"
   },
   "outputs": [
    {
     "data": {
      "image/png": "[encoded data removed]",
      "text/plain": [
       "<Figure size 1000x600 with 1 Axes>"
      ]
     },
     "metadata": {},
     "output_type": "display_data"
    }
   ],
   "source": [
    "# Initialization\n",
    "u = torch.randn(1, 1, 15, 15)\n",
    "b = torch.ones(1, 1, 15, 15) / 16**2\n",
    "\n",
    "gd = GradientDescentIteration(multigrid=True)\n",
    "residuals_gd = []\n",
    "out = (u, b)\n",
    "for i in range(1000):\n",
    "    out = gd(out)\n",
    "    error = torch.norm(F.conv2d(out[0], Laplace_kernel, padding=1) - out[1]).item()\n",
    "    residuals_gd.append(error)\n",
    "    if error < 10**(-5):\n",
    "        m1 = i\n",
    "        out_gd_final = out\n",
    "        break\n",
    "\n",
    "mg = Multigrid(num_channels=1, num_classes=1, num_iterations=[2, 2, 2, 2], multigrid=True)\n",
    "residuals_mg = []\n",
    "out = (u, b)\n",
    "for i in range(1000):\n",
    "    out = mg(out)\n",
    "    error = torch.norm(F.conv2d(out[0], Laplace_kernel, padding=1) - out[1]).item()\n",
    "    residuals_mg.append(error)\n",
    "    if error < 10**(-5):\n",
    "        m2 = i\n",
    "        out_mg_final = out\n",
    "        break\n",
    "\n",
    "plt.figure(figsize=(10, 6))\n",
    "plt.plot(residuals_gd, label='Gradient Descent', color='red')\n",
    "plt.plot(residuals_mg, label='Multigrid', color='blue')\n",
    "plt.yscale('log')\n",
    "plt.xlabel('Iteration')\n",
    "plt.ylabel('Error')\n",
    "plt.title('Gradient Descent vs Multigrid')\n",
    "plt.legend()\n",
    "plt.grid(True, which='both', linestyle='--', linewidth=0.5)\n",
    "plt.show()"
   ]
  },
  {
   "cell_type": "markdown",
   "id": "3b6f24ed",
   "metadata": {
    "id": "3b6f24ed"
   },
   "source": [
    "3. Now let us print $m_1$ and $m_2$. We can notice that $m_1 >> m_2$."
   ]
  },
  {
   "cell_type": "code",
   "execution_count": 5,
   "id": "d8adee59",
   "metadata": {
    "colab": {
     "base_uri": "https://localhost:8080/"
    },
    "execution": {
     "iopub.execute_input": "2024-12-01T00:32:44.825511Z",
     "iopub.status.busy": "2024-12-01T00:32:44.825087Z",
     "iopub.status.idle": "2024-12-01T00:32:44.829921Z",
     "shell.execute_reply": "2024-12-01T00:32:44.829213Z"
    },
    "id": "d8adee59",
    "outputId": "e850ba1a-c108-41a0-906b-c2bfe3afee9a"
   },
   "outputs": [
    {
     "name": "stdout",
     "output_type": "stream",
     "text": [
      "m_1:  468\n",
      "m_2:  11\n"
     ]
    }
   ],
   "source": [
    "print('m_1: ', m1)\n",
    "print('m_2: ', m2)"
   ]
  },
  {
   "cell_type": "markdown",
   "id": "89761c67",
   "metadata": {
    "id": "89761c67"
   },
   "source": [
    "### Task MgNet"
   ]
  },
  {
   "cell_type": "markdown",
   "id": "a4933b02",
   "metadata": {
    "id": "a4933b02"
   },
   "source": [
    "1. In this part, we modify the Multigrid code to implement MgNet. Specifically, we incorporate the following modifications:\n",
    "\n",
    "   (a) Adding nonlinear activation functions and BatchNormalization (BN). Batch Normalization should be applied after convolution layers and before activation functions in the Feature extraction (pre-smoothing) part of the Multigrid method.\n",
    "\n",
    "   (b) We do not need activation function or BN for the Interpolation and Restriction in MgNet. In the multigrid framework, the interpolation and restriction operations are used to transfer information between different grid levels (fine-to-coarse or coarse-to-fine). These operations are typically linear and do not require non-linearities like activation functions or normalization like BN."
   ]
  },
  {
   "cell_type": "markdown",
   "id": "UUJwa9H7MV7c",
   "metadata": {
    "id": "UUJwa9H7MV7c"
   },
   "source": [
    "2. Now, let us train MgNet model for CIFAR-10 dataset."
   ]
  },
  {
   "cell_type": "code",
   "execution_count": 6,
   "id": "a296cf12",
   "metadata": {
    "execution": {
     "iopub.execute_input": "2024-12-01T00:32:44.832798Z",
     "iopub.status.busy": "2024-12-01T00:32:44.832499Z",
     "iopub.status.idle": "2024-12-01T00:32:44.845255Z",
     "shell.execute_reply": "2024-12-01T00:32:44.844282Z"
    },
    "id": "a296cf12"
   },
   "outputs": [],
   "source": [
    "import torch\n",
    "import torch.nn as nn\n",
    "import torch.nn.functional as F\n",
    "\n",
    "class GradientDescentIteration(nn.Module):\n",
    "    def __init__(self, channels=1):\n",
    "        super().__init__()\n",
    "        self.lap = nn.Conv2d(channels, channels, kernel_size=3, padding=1, bias=False)\n",
    "        self.s = nn.Conv2d(channels, channels, kernel_size=3, padding=1, bias=False)\n",
    "        self.bn1 = nn.BatchNorm2d(channels)\n",
    "        self.bn2 = nn.BatchNorm2d(channels)\n",
    "        self.dropout = nn.Dropout2d(0.1)\n",
    "\n",
    "    def forward(self, out):\n",
    "        u, b = out\n",
    "        u = u + F.relu(self.bn2(self.s(F.relu(self.bn1(b - self.lap(u))))))\n",
    "        u = self.dropout(u)\n",
    "        return u, b\n",
    "\n",
    "class Restriction(nn.Module):\n",
    "    def __init__(self, channels=1):\n",
    "        super().__init__()\n",
    "        self.restrict_b = nn.Conv2d(channels, channels, kernel_size=3, stride=2, padding=1, bias=False)\n",
    "        self.restrict_u = nn.Conv2d(channels, channels, kernel_size=3, stride=2, padding=1, bias=False)\n",
    "        self.lap = nn.Conv2d(channels, channels, kernel_size=3, padding=1, bias=False)\n",
    "        self.dropout = nn.Dropout2d(0.1)\n",
    "\n",
    "    def forward(self, out):\n",
    "        u_old, b_old = out\n",
    "        u = self.restrict_u(u_old)\n",
    "        b = self.restrict_b(b_old - self.lap(u_old)) + self.lap(u)\n",
    "        u = self.dropout(u)\n",
    "        return u, b\n",
    "\n",
    "class MultigridClassification(nn.Module):\n",
    "    def __init__(self, num_channels, num_classes, num_iterations=[2, 2, 2, 2]):\n",
    "        super().__init__()\n",
    "        self.num_channels = num_channels\n",
    "        self.num_classes = num_classes\n",
    "        self.num_iterations = num_iterations\n",
    "        self.lift = nn.Conv2d(3, num_channels, kernel_size=3, padding=1, )\n",
    "        self.down_layers = nn.ModuleList()\n",
    "        downlayer = []\n",
    "        for i in range(len(num_iterations)):\n",
    "            for _ in range(num_iterations[i]):\n",
    "                downlayer.append(GradientDescentIteration(num_channels))\n",
    "            self.down_layers.append(nn.Sequential(*downlayer))\n",
    "            downlayer = []\n",
    "            if i < len(num_iterations) - 1:\n",
    "                downlayer.append(Restriction(num_channels))\n",
    "        self.dropout = nn.Dropout(0.1)\n",
    "        self.classifier = nn.Linear(num_channels, num_classes)\n",
    "\n",
    "    def forward(self, u, b):\n",
    "        u = self.lift(u)\n",
    "        b = self.lift(b)\n",
    "        out = (u, b)\n",
    "        for i in range(len(self.num_iterations)):\n",
    "            out = self.down_layers[i](out)\n",
    "        u, _ = out\n",
    "        u = F.adaptive_avg_pool2d(u, (1, 1))\n",
    "        u = u.view(u.size(0), -1)\n",
    "        u = self.dropout(u)\n",
    "        out = self.classifier(u)\n",
    "        return out"
   ]
  },
  {
   "cell_type": "code",
   "execution_count": 7,
   "id": "d1c4e4f0",
   "metadata": {
    "colab": {
     "base_uri": "https://localhost:8080/"
    },
    "execution": {
     "iopub.execute_input": "2024-12-01T00:32:44.848362Z",
     "iopub.status.busy": "2024-12-01T00:32:44.847959Z",
     "iopub.status.idle": "2024-12-01T00:33:02.210558Z",
     "shell.execute_reply": "2024-12-01T00:33:02.208913Z"
    },
    "id": "d1c4e4f0",
    "outputId": "fd1728fd-64e0-4301-bb78-a1516ce863fe"
   },
   "outputs": [
    {
     "name": "stdout",
     "output_type": "stream",
     "text": [
      "Downloading https://www.cs.toronto.edu/~kriz/cifar-10-python.tar.gz to ./data/cifar-10-python.tar.gz\n"
     ]
    },
    {
     "name": "stderr",
     "output_type": "stream",
     "text": [
      "100%|█████████████████████████████████████████████████████████████████████████████| 170498071/170498071 [00:10<00:00, 15857316.35it/s]\n"
     ]
    },
    {
     "name": "stdout",
     "output_type": "stream",
     "text": [
      "Extracting ./data/cifar-10-python.tar.gz to ./data\n",
      "Files already downloaded and verified\n"
     ]
    }
   ],
   "source": [
    "import torchvision\n",
    "import torchvision.transforms as transforms\n",
    "from torch.utils.data import DataLoader\n",
    "\n",
    "# Define the transformations (converting images to tensor)\n",
    "transform_train = transforms.Compose([\n",
    "    transforms.RandomHorizontalFlip(),\n",
    "    transforms.RandomRotation(15),\n",
    "    transforms.RandomCrop(32, padding=4),\n",
    "    transforms.ToTensor(),\n",
    "    transforms.Normalize(mean=[0.485, 0.456, 0.406], std=[0.229, 0.224, 0.225]),\n",
    "])\n",
    "transform_test = transforms.Compose([\n",
    "    transforms.ToTensor(),\n",
    "    transforms.Normalize(mean=[0.485, 0.456, 0.406], std=[0.229, 0.224, 0.225])\n",
    "])\n",
    "\n",
    "# Load the CIFAR-10 training and testing datasets\n",
    "train_dataset = torchvision.datasets.CIFAR10(root='./data', train=True, download=True, transform=transform_train)\n",
    "test_dataset = torchvision.datasets.CIFAR10(root='./data', train=False, download=True, transform=transform_test)\n",
    "\n",
    "# Create data loaders for the training and testing datasets\n",
    "train_loader = DataLoader(train_dataset, batch_size=128, shuffle=True)\n",
    "test_loader = DataLoader(test_dataset, batch_size=128, shuffle=False)"
   ]
  },
  {
   "cell_type": "code",
   "execution_count": 8,
   "id": "5499f09f",
   "metadata": {
    "colab": {
     "base_uri": "https://localhost:8080/",
     "height": 326
    },
    "execution": {
     "iopub.execute_input": "2024-12-01T00:33:02.216046Z",
     "iopub.status.busy": "2024-12-01T00:33:02.214886Z",
     "iopub.status.idle": "2024-12-01T01:55:55.710425Z",
     "shell.execute_reply": "2024-12-01T01:55:55.708769Z"
    },
    "id": "5499f09f",
    "outputId": "eef7a1d6-d68d-493c-8571-482efeb74368"
   },
   "outputs": [
    {
     "name": "stdout",
     "output_type": "stream",
     "text": [
      "Epoch 1: Train Loss: 1.693, Train Acc: 37.428, Test Loss: 1.306, Test Acc: 53.450\n",
      "Epoch 2: Train Loss: 1.303, Train Acc: 52.940, Test Loss: 1.159, Test Acc: 58.860\n",
      "Epoch 3: Train Loss: 1.155, Train Acc: 58.564, Test Loss: 0.966, Test Acc: 65.870\n",
      "Epoch 4: Train Loss: 1.057, Train Acc: 62.178, Test Loss: 0.898, Test Acc: 68.540\n",
      "Epoch 5: Train Loss: 0.990, Train Acc: 64.930, Test Loss: 0.841, Test Acc: 70.650\n",
      "Epoch 6: Train Loss: 0.932, Train Acc: 67.018, Test Loss: 0.846, Test Acc: 71.400\n",
      "Epoch 7: Train Loss: 0.872, Train Acc: 69.176, Test Loss: 0.757, Test Acc: 74.780\n",
      "Epoch 8: Train Loss: 0.824, Train Acc: 71.264, Test Loss: 0.669, Test Acc: 77.150\n",
      "Epoch 9: Train Loss: 0.775, Train Acc: 73.020, Test Loss: 0.656, Test Acc: 77.940\n",
      "Epoch 10: Train Loss: 0.742, Train Acc: 74.148, Test Loss: 0.587, Test Acc: 80.560\n",
      "Epoch 11: Train Loss: 0.700, Train Acc: 75.596, Test Loss: 0.568, Test Acc: 81.690\n",
      "Epoch 12: Train Loss: 0.675, Train Acc: 76.690, Test Loss: 0.567, Test Acc: 81.620\n",
      "Epoch 13: Train Loss: 0.639, Train Acc: 77.818, Test Loss: 0.510, Test Acc: 83.270\n",
      "Epoch 14: Train Loss: 0.621, Train Acc: 78.708, Test Loss: 0.512, Test Acc: 83.350\n",
      "Epoch 15: Train Loss: 0.596, Train Acc: 79.670, Test Loss: 0.551, Test Acc: 83.020\n",
      "Epoch 16: Train Loss: 0.580, Train Acc: 80.092, Test Loss: 0.483, Test Acc: 84.540\n",
      "Epoch 17: Train Loss: 0.557, Train Acc: 80.806, Test Loss: 0.476, Test Acc: 85.070\n",
      "Epoch 18: Train Loss: 0.548, Train Acc: 81.156, Test Loss: 0.432, Test Acc: 86.390\n",
      "Epoch 19: Train Loss: 0.528, Train Acc: 81.870, Test Loss: 0.414, Test Acc: 87.070\n",
      "Epoch 20: Train Loss: 0.516, Train Acc: 82.236, Test Loss: 0.424, Test Acc: 86.490\n",
      "Epoch 21: Train Loss: 0.502, Train Acc: 82.786, Test Loss: 0.411, Test Acc: 87.190\n",
      "Epoch 22: Train Loss: 0.485, Train Acc: 83.308, Test Loss: 0.382, Test Acc: 87.720\n",
      "Epoch 23: Train Loss: 0.476, Train Acc: 83.678, Test Loss: 0.374, Test Acc: 88.510\n",
      "Epoch 24: Train Loss: 0.467, Train Acc: 83.890, Test Loss: 0.363, Test Acc: 88.690\n",
      "Epoch 25: Train Loss: 0.451, Train Acc: 84.580, Test Loss: 0.346, Test Acc: 89.290\n",
      "Epoch 26: Train Loss: 0.441, Train Acc: 84.882, Test Loss: 0.373, Test Acc: 88.140\n",
      "Epoch 27: Train Loss: 0.436, Train Acc: 85.088, Test Loss: 0.342, Test Acc: 89.430\n",
      "Epoch 28: Train Loss: 0.421, Train Acc: 85.470, Test Loss: 0.363, Test Acc: 89.080\n",
      "Epoch 29: Train Loss: 0.412, Train Acc: 85.956, Test Loss: 0.354, Test Acc: 89.120\n",
      "Epoch 30: Train Loss: 0.403, Train Acc: 86.178, Test Loss: 0.358, Test Acc: 89.250\n",
      "Epoch 31: Train Loss: 0.399, Train Acc: 86.136, Test Loss: 0.333, Test Acc: 89.480\n",
      "Epoch 32: Train Loss: 0.388, Train Acc: 86.544, Test Loss: 0.311, Test Acc: 90.660\n",
      "Epoch 33: Train Loss: 0.373, Train Acc: 87.226, Test Loss: 0.324, Test Acc: 90.200\n",
      "Epoch 34: Train Loss: 0.372, Train Acc: 87.134, Test Loss: 0.332, Test Acc: 90.160\n",
      "Epoch 35: Train Loss: 0.362, Train Acc: 87.458, Test Loss: 0.311, Test Acc: 90.920\n",
      "Epoch 36: Train Loss: 0.350, Train Acc: 87.924, Test Loss: 0.296, Test Acc: 91.020\n",
      "Epoch 37: Train Loss: 0.343, Train Acc: 88.134, Test Loss: 0.298, Test Acc: 91.210\n",
      "Epoch 38: Train Loss: 0.342, Train Acc: 88.264, Test Loss: 0.287, Test Acc: 91.430\n",
      "Epoch 39: Train Loss: 0.330, Train Acc: 88.588, Test Loss: 0.303, Test Acc: 91.170\n",
      "Epoch 40: Train Loss: 0.325, Train Acc: 88.746, Test Loss: 0.296, Test Acc: 91.340\n",
      "Epoch 41: Train Loss: 0.323, Train Acc: 88.758, Test Loss: 0.293, Test Acc: 91.260\n",
      "Epoch 42: Train Loss: 0.309, Train Acc: 89.334, Test Loss: 0.278, Test Acc: 91.980\n",
      "Epoch 43: Train Loss: 0.301, Train Acc: 89.666, Test Loss: 0.303, Test Acc: 91.190\n",
      "Epoch 44: Train Loss: 0.298, Train Acc: 89.642, Test Loss: 0.275, Test Acc: 92.400\n",
      "Epoch 45: Train Loss: 0.291, Train Acc: 89.974, Test Loss: 0.291, Test Acc: 91.280\n",
      "Epoch 46: Train Loss: 0.288, Train Acc: 90.044, Test Loss: 0.265, Test Acc: 92.580\n",
      "Epoch 47: Train Loss: 0.278, Train Acc: 90.292, Test Loss: 0.265, Test Acc: 92.410\n",
      "Epoch 48: Train Loss: 0.273, Train Acc: 90.500, Test Loss: 0.259, Test Acc: 92.550\n",
      "Epoch 49: Train Loss: 0.266, Train Acc: 90.852, Test Loss: 0.266, Test Acc: 92.100\n",
      "Epoch 50: Train Loss: 0.263, Train Acc: 90.732, Test Loss: 0.275, Test Acc: 92.160\n",
      "Epoch 51: Train Loss: 0.254, Train Acc: 91.202, Test Loss: 0.259, Test Acc: 92.360\n",
      "Epoch 52: Train Loss: 0.249, Train Acc: 91.404, Test Loss: 0.258, Test Acc: 92.940\n",
      "Epoch 53: Train Loss: 0.242, Train Acc: 91.554, Test Loss: 0.258, Test Acc: 92.840\n",
      "Epoch 54: Train Loss: 0.242, Train Acc: 91.596, Test Loss: 0.246, Test Acc: 93.000\n",
      "Epoch 55: Train Loss: 0.234, Train Acc: 91.950, Test Loss: 0.247, Test Acc: 93.030\n",
      "Epoch 56: Train Loss: 0.223, Train Acc: 92.286, Test Loss: 0.256, Test Acc: 93.120\n",
      "Epoch 57: Train Loss: 0.221, Train Acc: 92.314, Test Loss: 0.241, Test Acc: 93.600\n",
      "Epoch 58: Train Loss: 0.223, Train Acc: 92.326, Test Loss: 0.242, Test Acc: 93.180\n",
      "Epoch 59: Train Loss: 0.214, Train Acc: 92.560, Test Loss: 0.241, Test Acc: 93.620\n",
      "Epoch 60: Train Loss: 0.207, Train Acc: 92.654, Test Loss: 0.252, Test Acc: 93.000\n",
      "Epoch 61: Train Loss: 0.200, Train Acc: 93.054, Test Loss: 0.245, Test Acc: 93.420\n",
      "Epoch 62: Train Loss: 0.200, Train Acc: 93.022, Test Loss: 0.244, Test Acc: 93.510\n",
      "Epoch 63: Train Loss: 0.193, Train Acc: 93.116, Test Loss: 0.247, Test Acc: 93.530\n",
      "Epoch 64: Train Loss: 0.188, Train Acc: 93.442, Test Loss: 0.255, Test Acc: 93.620\n",
      "Epoch 65: Train Loss: 0.184, Train Acc: 93.652, Test Loss: 0.233, Test Acc: 93.790\n",
      "Epoch 66: Train Loss: 0.179, Train Acc: 93.750, Test Loss: 0.245, Test Acc: 93.750\n",
      "Epoch 67: Train Loss: 0.175, Train Acc: 93.810, Test Loss: 0.241, Test Acc: 93.780\n",
      "Epoch 68: Train Loss: 0.169, Train Acc: 94.002, Test Loss: 0.241, Test Acc: 93.850\n",
      "Epoch 69: Train Loss: 0.169, Train Acc: 94.082, Test Loss: 0.235, Test Acc: 93.870\n",
      "Epoch 70: Train Loss: 0.163, Train Acc: 94.206, Test Loss: 0.229, Test Acc: 94.130\n",
      "Epoch 71: Train Loss: 0.159, Train Acc: 94.350, Test Loss: 0.236, Test Acc: 94.110\n",
      "Epoch 72: Train Loss: 0.157, Train Acc: 94.488, Test Loss: 0.226, Test Acc: 94.160\n",
      "Epoch 73: Train Loss: 0.148, Train Acc: 94.726, Test Loss: 0.227, Test Acc: 94.230\n",
      "Epoch 74: Train Loss: 0.146, Train Acc: 94.904, Test Loss: 0.233, Test Acc: 94.230\n",
      "Epoch 75: Train Loss: 0.144, Train Acc: 94.988, Test Loss: 0.230, Test Acc: 94.480\n",
      "Epoch 76: Train Loss: 0.140, Train Acc: 95.054, Test Loss: 0.235, Test Acc: 94.160\n",
      "Epoch 77: Train Loss: 0.138, Train Acc: 95.142, Test Loss: 0.236, Test Acc: 94.310\n",
      "Epoch 78: Train Loss: 0.136, Train Acc: 95.242, Test Loss: 0.230, Test Acc: 94.290\n",
      "Epoch 79: Train Loss: 0.134, Train Acc: 95.282, Test Loss: 0.231, Test Acc: 94.420\n",
      "Epoch 80: Train Loss: 0.130, Train Acc: 95.268, Test Loss: 0.228, Test Acc: 94.360\n",
      "Epoch 81: Train Loss: 0.129, Train Acc: 95.470, Test Loss: 0.229, Test Acc: 94.400\n",
      "Epoch 82: Train Loss: 0.124, Train Acc: 95.684, Test Loss: 0.226, Test Acc: 94.390\n",
      "Epoch 83: Train Loss: 0.123, Train Acc: 95.616, Test Loss: 0.227, Test Acc: 94.490\n",
      "Epoch 84: Train Loss: 0.119, Train Acc: 95.784, Test Loss: 0.230, Test Acc: 94.570\n",
      "Epoch 85: Train Loss: 0.122, Train Acc: 95.746, Test Loss: 0.225, Test Acc: 94.540\n",
      "Epoch 86: Train Loss: 0.119, Train Acc: 95.782, Test Loss: 0.224, Test Acc: 94.650\n",
      "Epoch 87: Train Loss: 0.117, Train Acc: 95.934, Test Loss: 0.225, Test Acc: 94.630\n",
      "Epoch 88: Train Loss: 0.113, Train Acc: 96.036, Test Loss: 0.227, Test Acc: 94.670\n",
      "Epoch 89: Train Loss: 0.111, Train Acc: 96.036, Test Loss: 0.225, Test Acc: 94.540\n",
      "Epoch 90: Train Loss: 0.109, Train Acc: 96.106, Test Loss: 0.226, Test Acc: 94.680\n",
      "Epoch 91: Train Loss: 0.109, Train Acc: 96.190, Test Loss: 0.226, Test Acc: 94.680\n",
      "Epoch 92: Train Loss: 0.111, Train Acc: 96.052, Test Loss: 0.225, Test Acc: 94.630\n",
      "Epoch 93: Train Loss: 0.108, Train Acc: 96.174, Test Loss: 0.224, Test Acc: 94.700\n",
      "Epoch 94: Train Loss: 0.105, Train Acc: 96.302, Test Loss: 0.226, Test Acc: 94.670\n",
      "Epoch 95: Train Loss: 0.108, Train Acc: 96.160, Test Loss: 0.226, Test Acc: 94.740\n",
      "Epoch 96: Train Loss: 0.108, Train Acc: 96.114, Test Loss: 0.228, Test Acc: 94.620\n",
      "Epoch 97: Train Loss: 0.106, Train Acc: 96.198, Test Loss: 0.227, Test Acc: 94.710\n",
      "Epoch 98: Train Loss: 0.104, Train Acc: 96.362, Test Loss: 0.226, Test Acc: 94.630\n",
      "Epoch 99: Train Loss: 0.106, Train Acc: 96.212, Test Loss: 0.226, Test Acc: 94.730\n"
     ]
    },
    {
     "name": "stdout",
     "output_type": "stream",
     "text": [
      "Epoch 100: Train Loss: 0.107, Train Acc: 96.198, Test Loss: 0.226, Test Acc: 94.710\n"
     ]
    }
   ],
   "source": [
    "import torch.optim as optim\n",
    "\n",
    "# Define the training loop\n",
    "def train_epoch(model, loader, optimizer, device):\n",
    "    model.train()\n",
    "    train_loss = 0\n",
    "    correct = 0\n",
    "    total = 0\n",
    "    for batch_idx, (inputs, targets) in enumerate(loader):\n",
    "        inputs, targets = inputs.to(device), targets.to(device)\n",
    "        optimizer.zero_grad()\n",
    "        outputs = model(inputs, inputs)\n",
    "        loss = F.cross_entropy(outputs, targets)\n",
    "        loss.backward()\n",
    "        optimizer.step()\n",
    "        train_loss += loss.item()\n",
    "        _, predicted = outputs.max(1)\n",
    "        total += targets.size(0)\n",
    "        correct += predicted.eq(targets).sum().item()\n",
    "    scheduler.step()\n",
    "    return train_loss / (batch_idx + 1), 100. * correct / total\n",
    "\n",
    "# Define the test loop\n",
    "def test_epoch(model, loader, device):\n",
    "    model.eval()\n",
    "    test_loss = 0\n",
    "    correct = 0\n",
    "    total = 0\n",
    "    with torch.no_grad():\n",
    "        for batch_idx, (inputs, targets) in enumerate(loader):\n",
    "            inputs, targets = inputs.to(device), targets.to(device)\n",
    "            outputs = model(inputs, inputs)\n",
    "            loss = F.cross_entropy(outputs, targets)\n",
    "            test_loss += loss.item()\n",
    "            _, predicted = outputs.max(1)\n",
    "            total += targets.size(0)\n",
    "            correct += predicted.eq(targets).sum().item()\n",
    "    return test_loss / (batch_idx + 1), 100. * correct / total\n",
    "\n",
    "# Define the device (GPU if available, otherwise CPU)\n",
    "device = torch.device('cuda' if torch.cuda.is_available() else 'cpu')\n",
    "\n",
    "# Initialize the model and optimizer\n",
    "model = MultigridClassification(num_channels=128, num_classes=10)\n",
    "model.to(device)\n",
    "optimizer = optimizer = optim.AdamW(model.parameters(), lr=0.001, weight_decay=1e-4)\n",
    "scheduler = torch.optim.lr_scheduler.CosineAnnealingLR(optimizer, T_max=100)\n",
    "\n",
    "# Training loop\n",
    "for epoch in range(100):\n",
    "    train_loss, train_acc = train_epoch(model, train_loader, optimizer, device)\n",
    "    test_loss, test_acc = test_epoch(model, test_loader, device)\n",
    "    print(f'Epoch {epoch + 1}: Train Loss: {train_loss:.3f}, Train Acc: {train_acc:.3f}, '\n",
    "          f'Test Loss: {test_loss:.3f}, Test Acc: {test_acc:.3f}')"
   ]
  },
  {
   "cell_type": "code",
   "execution_count": null,
   "id": "d506f759",
   "metadata": {
    "id": "d506f759"
   },
   "outputs": [],
   "source": []
  }
 ],
 "metadata": {
  "accelerator": "GPU",
  "colab": {
   "gpuType": "T4",
   "provenance": []
  },
  "kernelspec": {
   "display_name": "Python 3",
   "language": "python",
   "name": "python3"
  },
  "language_info": {
   "codemirror_mode": {
    "name": "ipython",
    "version": 3
   },
   "file_extension": ".py",
   "mimetype": "text/x-python",
   "name": "python",
   "nbconvert_exporter": "python",
   "pygments_lexer": "ipython3",
   "version": "3.8.8"
  }
 },
 "nbformat": 4,
 "nbformat_minor": 5
}
